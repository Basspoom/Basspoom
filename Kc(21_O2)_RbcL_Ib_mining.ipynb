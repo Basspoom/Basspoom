{
  "cells": [
    {
      "cell_type": "markdown",
      "metadata": {
        "id": "view-in-github",
        "colab_type": "text"
      },
      "source": [
        "<a href=\"https://colab.research.google.com/github/Basspoom/Basspoom/blob/main/Kc(21_O2)_RbcL_Ib_mining.ipynb\" target=\"_parent\"><img src=\"https://colab.research.google.com/assets/colab-badge.svg\" alt=\"Open In Colab\"/></a>"
      ]
    },
    {
      "cell_type": "markdown",
      "metadata": {
        "id": "mEhLpe1ZgXya"
      },
      "source": [
        "### **RbcL Ib mining**\n",
        "The model in this notebook allows the prediction of the plant Rubisco kinetic parameter, Michaelis Menten constant for CO2 measured at ambient O2 (Kc^21%O2), based on the Rubisco large subunit (rbcl) protein sequence.\n",
        "\n",
        "Details of the model can be found in the published paper:\n",
        "\n",
        "\n",
        "Basic instructions for use:\n",
        "1. Model predictions can be obtained faster by setting the runtime as a 'TPU' via 'runtime --> change runtime type'.  \n",
        "2. Load each step of the notebook using the 'play' button as instructed below:"
      ]
    },
    {
      "cell_type": "code",
      "execution_count": null,
      "metadata": {
        "cellView": "form",
        "id": "0AAqi453fVxy"
      },
      "outputs": [],
      "source": [
        "#@title Import dependencies. Will take approx 10 minutes to load.\n",
        "!pip install tensorflow==2.8.0 tensorflow_probability==0.16.0 # need this version so that I can load my saved gaussian process model\n",
        "#!pip install gpflow\n",
        "from IPython.display import clear_output\n",
        "clear_output()\n",
        "!pip install glob2\n",
        "clear_output()\n",
        "import torch\n",
        "!git clone https://github.com/Iqbalwasim01/esm.git\n",
        "!pip install esm/\n",
        "import esm\n",
        "model, alphabet = esm.pretrained.esm1b_t33_650M_UR50S()\n",
        "batch_converter = alphabet.get_batch_converter()\n",
        "clear_output()\n",
        "from pickle import LIST\n",
        "from typing import List\n",
        "from typing_extensions import Final\n",
        "from numpy.core.defchararray import count\n",
        "import torch\n",
        "import pandas\n",
        "import numpy\n",
        "import os\n",
        "from numpy.core import numeric\n",
        "from pathlib import Path\n",
        "import glob\n",
        "from ipywidgets import interact, interactive, fixed, interact_manual\n",
        "import ipywidgets as widgets\n",
        "import timeit\n",
        "import tensorflow as tf\n",
        "import time\n",
        "\n",
        "time.sleep(1)  # add a delay of 5 seconds\n",
        "\n"
      ]
    },
    {
      "cell_type": "code",
      "execution_count": null,
      "metadata": {
        "id": "5qQJL6AGmWu7",
        "cellView": "form"
      },
      "outputs": [],
      "source": [
        "#@title Load pretrained models. Will take approx 2 minutes\n",
        "# Gaussian process regression pretrained model\n",
        "\n",
        "#attempts = 0 # need this function. When importing gpflow package it fails the first two times due to package comptability conflicts.\n",
        "#while attempts < 3:\n",
        "    #try:\n",
        "        #import gpflow\n",
        "        #break\n",
        "    #except:\n",
        "        #attempts += 1\n",
        "        #time.sleep(1)  # wait for 1 second before retrying\n",
        "\n",
        "#from gpflow import kernels, models\n",
        "#from gpflow.utilities import print_summary, set_trainable\n",
        "\n",
        "!git clone https://github.com/Iqbalwasim01/RbcLIB_Mining_Kc.git\n",
        "!unzip /content/RbcLIB_Mining_Kc/SavedModel.zip\n",
        "%cd \"/content/SavedModel\"\n",
        "loaded_model=tf.saved_model.load(\"/content/SavedModel\")\n",
        "clear_output()"
      ]
    },
    {
      "cell_type": "code",
      "execution_count": null,
      "metadata": {
        "id": "WbJt1k6fmSb7",
        "cellView": "form"
      },
      "outputs": [],
      "source": [
        "#@title\n",
        "# Calculate embeddings\n",
        "\n",
        "def ESM(sequence):\n",
        "\n",
        "  global df_results\n",
        "\n",
        "  data=[(\"protein\",sequence)]\n",
        "\n",
        "  model.eval()  # disables dropout for deterministic results\n",
        "\n",
        "  batch_labels, batch_strs, batch_tokens = batch_converter(data)\n",
        "  # Extract per-residue representations (on CPU)\n",
        "  with torch.no_grad():\n",
        "    results = model(batch_tokens, repr_layers=[33], return_contacts=True)\n",
        "  token_representations = results[\"representations\"][33]\n",
        "\n",
        "  # Generate per-sequence representations via averaging\n",
        "  # NOTE: token 0 is always a beginning-of-sequence token, so the first residue is token 1.\n",
        "  sequence_representations = []\n",
        "  for i, (_, seq) in enumerate(data):\n",
        "    sequence_representations.append(token_representations[i, 1 : len(seq) + 1].mean(0))\n",
        "\n",
        "  for s in sequence_representations:\n",
        "    samples=s.numpy()\n",
        "    samples=samples.reshape(1,1280)\n",
        "\n",
        "  #inputs=tf.convert_to_tensor(samples,dtype=default_float())\n",
        "  mean, var=loaded_model.predict_f_compiled(samples)\n",
        "  return mean,var"
      ]
    },
    {
      "cell_type": "markdown",
      "metadata": {
        "id": "5LY-HkdUu_cW"
      },
      "source": [
        "Paste your sequence in the box which will appear below. The mean and variance will appear after a few seconds.\n",
        "\n",
        "We recommend that your sequence length be >450 and <600.\n",
        "\n",
        "The first run always takes a few minutes to load.\n",
        "\n",
        "NOTE: Make sure each protein sequence contains no spaces or line breaks, otherwise an error will occur."
      ]
    },
    {
      "cell_type": "code",
      "execution_count": null,
      "metadata": {
        "cellView": "form",
        "colab": {
          "base_uri": "https://localhost:8080/",
          "height": 101,
          "referenced_widgets": [
            "33ff173c55fe47a4a990fbabc432d56e",
            "d84a6f09b9914d68ad23593c8af35168",
            "eed63d62279f4b3bad5542fe87b180f4",
            "9e4f05de424c4e36a8ffced586efeaa5",
            "8630a9a137c347e2a7358b27b77de3c0",
            "11e669adddab421aa06ce71200d0ef70",
            "04def864bfbf492ab333c2d6c902c0a8"
          ]
        },
        "id": "C0R91eZ2x-eJ",
        "outputId": "4d51c390-b0fa-45e3-bbae-f0929c0ac174"
      },
      "outputs": [
        {
          "output_type": "display_data",
          "data": {
            "text/plain": [
              "interactive(children=(Text(value='AABBBCCCC', description='sequence'), Output()), _dom_classes=('widget-intera…"
            ],
            "application/vnd.jupyter.widget-view+json": {
              "version_major": 2,
              "version_minor": 0,
              "model_id": "33ff173c55fe47a4a990fbabc432d56e"
            }
          },
          "metadata": {}
        },
        {
          "output_type": "execute_result",
          "data": {
            "text/plain": [
              "<function __main__.ESM(sequence)>"
            ]
          },
          "metadata": {},
          "execution_count": 4
        }
      ],
      "source": [
        "#@title\n",
        "#from gpflow.config import default_float\n",
        "#gpflow.config.set_default_float(numpy.float64)\n",
        "\n",
        "interact(ESM,sequence=\"AABBBCCCC\")"
      ]
    },
    {
      "cell_type": "markdown",
      "metadata": {
        "id": "nlSdopG_Gnb0"
      },
      "source": [
        "Alternatively, upload a .csv file formatted with the exact column names: \"Species.name\" & \"seq\"\n",
        "\n",
        "We recommend that your sequence length be >450 and <600.\n",
        "\n",
        "NOTE: Make sure each protein sequence contains no spaces or line breaks, otherwise an error will occur."
      ]
    },
    {
      "cell_type": "code",
      "execution_count": null,
      "metadata": {
        "cellView": "form",
        "colab": {
          "base_uri": "https://localhost:8080/",
          "height": 49,
          "referenced_widgets": [
            "a34784c5bafa4fe69443c5341de154c4",
            "c42d66e0d94d4fd4a463fa10d1638eea",
            "ab2b1c4da3b44fb1b567707ff8578b3b"
          ]
        },
        "id": "d4re0VGDGeiQ",
        "outputId": "3ebb05ba-b105-4d6e-8ad1-3f016b1f4c7b"
      },
      "outputs": [
        {
          "data": {
            "application/vnd.jupyter.widget-view+json": {
              "model_id": "a34784c5bafa4fe69443c5341de154c4",
              "version_major": 2,
              "version_minor": 0
            },
            "text/plain": [
              "FileUpload(value={}, accept='.csv', description='Upload')"
            ]
          },
          "metadata": {},
          "output_type": "display_data"
        }
      ],
      "source": [
        "#@title\n",
        "uploader=widgets.FileUpload(\n",
        "    accept='.csv',  # Accepted file extension e.g. '.txt', '.pdf', 'image/*', 'image/*,.pdf'\n",
        "    multiple=False  # True to accept multiple files upload else False\n",
        ")\n",
        "display(uploader)\n",
        "\n"
      ]
    },
    {
      "cell_type": "code",
      "execution_count": null,
      "metadata": {
        "cellView": "form",
        "colab": {
          "background_save": true,
          "base_uri": "https://localhost:8080/"
        },
        "id": "4oReG3xaNEtA",
        "outputId": "2eddd4ad-31d9-451d-f3ae-a6ce302bd5de"
      },
      "outputs": [
        {
          "name": "stderr",
          "output_type": "stream",
          "text": [
            "100%|██████████| 9540/9540 [3:15:09<00:00,  1.23s/it]\n"
          ]
        },
        {
          "data": {
            "application/javascript": [
              "\n",
              "    async function download(id, filename, size) {\n",
              "      if (!google.colab.kernel.accessAllowed) {\n",
              "        return;\n",
              "      }\n",
              "      const div = document.createElement('div');\n",
              "      const label = document.createElement('label');\n",
              "      label.textContent = `Downloading \"${filename}\": `;\n",
              "      div.appendChild(label);\n",
              "      const progress = document.createElement('progress');\n",
              "      progress.max = size;\n",
              "      div.appendChild(progress);\n",
              "      document.body.appendChild(div);\n",
              "\n",
              "      const buffers = [];\n",
              "      let downloaded = 0;\n",
              "\n",
              "      const channel = await google.colab.kernel.comms.open(id);\n",
              "      // Send a message to notify the kernel that we're ready.\n",
              "      channel.send({})\n",
              "\n",
              "      for await (const message of channel.messages) {\n",
              "        // Send a message to notify the kernel that we're ready.\n",
              "        channel.send({})\n",
              "        if (message.buffers) {\n",
              "          for (const buffer of message.buffers) {\n",
              "            buffers.push(buffer);\n",
              "            downloaded += buffer.byteLength;\n",
              "            progress.value = downloaded;\n",
              "          }\n",
              "        }\n",
              "      }\n",
              "      const blob = new Blob(buffers, {type: 'application/binary'});\n",
              "      const a = document.createElement('a');\n",
              "      a.href = window.URL.createObjectURL(blob);\n",
              "      a.download = filename;\n",
              "      div.appendChild(a);\n",
              "      a.click();\n",
              "      div.remove();\n",
              "    }\n",
              "  "
            ],
            "text/plain": [
              "<IPython.core.display.Javascript object>"
            ]
          },
          "metadata": {},
          "output_type": "display_data"
        },
        {
          "data": {
            "application/javascript": [
              "download(\"download_73d08f18-27cd-40bc-97ea-66c4c46c54fe\", \"bigdata.csv\", 348478)"
            ],
            "text/plain": [
              "<IPython.core.display.Javascript object>"
            ]
          },
          "metadata": {},
          "output_type": "display_data"
        }
      ],
      "source": [
        "#@title Run cell to predict activity from uploaded file\n",
        "from tqdm import tqdm\n",
        "import io\n",
        "import pandas as pd\n",
        "import gc\n",
        "\n",
        "input_file = list(uploader.value.values())[0]\n",
        "content = input_file['content']\n",
        "content = io.StringIO(content.decode('ISO-8859-1'))\n",
        "df = pd.read_csv(content)\n",
        "\n",
        "Species_name=df[\"Species.name\"].to_numpy()\n",
        "Sequence=df[\"seq\"].to_numpy()\n",
        "\n",
        "\n",
        "#from gpflow.config import default_float\n",
        "#gpflow.config.set_default_float(numpy.float64)\n",
        "\n",
        "mean_=[]\n",
        "var_=[]\n",
        "for i in tqdm(Sequence):\n",
        "  gc.disable() # reduces loop time by disabling garbage collector\n",
        "  mean,var=ESM(sequence=i)\n",
        "  mean=mean.numpy()[0]; var=var.numpy()[0]\n",
        "  mean_.append(mean); var_.append(var) # faster than append\n",
        "gc.enable()\n",
        "\n",
        "bigdata=pd.DataFrame({'mean':mean_,'var':var_},columns=['mean','var'])\n",
        "bigdata['Species.new'] = Species_name\n",
        "from google.colab import files\n",
        "bigdata.to_csv('bigdata.csv')\n",
        "files.download('bigdata.csv')"
      ]
    }
  ],
  "metadata": {
    "accelerator": "TPU",
    "colab": {
      "machine_shape": "hm",
      "provenance": [],
      "include_colab_link": true
    },
    "gpuClass": "standard",
    "kernelspec": {
      "display_name": "Python 3",
      "name": "python3"
    },
    "language_info": {
      "name": "python"
    },
    "widgets": {
      "application/vnd.jupyter.widget-state+json": {
        "a34784c5bafa4fe69443c5341de154c4": {
          "model_module": "@jupyter-widgets/controls",
          "model_module_version": "1.5.0",
          "model_name": "FileUploadModel",
          "state": {
            "_counter": 1,
            "_dom_classes": [],
            "_model_module": "@jupyter-widgets/controls",
            "_model_module_version": "1.5.0",
            "_model_name": "FileUploadModel",
            "_view_count": null,
            "_view_module": "@jupyter-widgets/controls",
            "_view_module_version": "1.5.0",
            "_view_name": "FileUploadView",
            "accept": ".csv",
            "button_style": "",
            "data": [
              null
            ],
            "description": "Upload",
            "description_tooltip": null,
            "disabled": false,
            "error": "",
            "icon": "upload",
            "layout": "IPY_MODEL_c42d66e0d94d4fd4a463fa10d1638eea",
            "metadata": [
              {
                "lastModified": 1669212471548,
                "name": "All_tobaccosamsun_point_mutations.csv",
                "size": 4671325,
                "type": "text/csv"
              }
            ],
            "multiple": false,
            "style": "IPY_MODEL_ab2b1c4da3b44fb1b567707ff8578b3b"
          }
        },
        "ab2b1c4da3b44fb1b567707ff8578b3b": {
          "model_module": "@jupyter-widgets/controls",
          "model_module_version": "1.5.0",
          "model_name": "ButtonStyleModel",
          "state": {
            "_model_module": "@jupyter-widgets/controls",
            "_model_module_version": "1.5.0",
            "_model_name": "ButtonStyleModel",
            "_view_count": null,
            "_view_module": "@jupyter-widgets/base",
            "_view_module_version": "1.2.0",
            "_view_name": "StyleView",
            "button_color": null,
            "font_weight": ""
          }
        },
        "c42d66e0d94d4fd4a463fa10d1638eea": {
          "model_module": "@jupyter-widgets/base",
          "model_module_version": "1.2.0",
          "model_name": "LayoutModel",
          "state": {
            "_model_module": "@jupyter-widgets/base",
            "_model_module_version": "1.2.0",
            "_model_name": "LayoutModel",
            "_view_count": null,
            "_view_module": "@jupyter-widgets/base",
            "_view_module_version": "1.2.0",
            "_view_name": "LayoutView",
            "align_content": null,
            "align_items": null,
            "align_self": null,
            "border": null,
            "bottom": null,
            "display": null,
            "flex": null,
            "flex_flow": null,
            "grid_area": null,
            "grid_auto_columns": null,
            "grid_auto_flow": null,
            "grid_auto_rows": null,
            "grid_column": null,
            "grid_gap": null,
            "grid_row": null,
            "grid_template_areas": null,
            "grid_template_columns": null,
            "grid_template_rows": null,
            "height": null,
            "justify_content": null,
            "justify_items": null,
            "left": null,
            "margin": null,
            "max_height": null,
            "max_width": null,
            "min_height": null,
            "min_width": null,
            "object_fit": null,
            "object_position": null,
            "order": null,
            "overflow": null,
            "overflow_x": null,
            "overflow_y": null,
            "padding": null,
            "right": null,
            "top": null,
            "visibility": null,
            "width": null
          }
        },
        "33ff173c55fe47a4a990fbabc432d56e": {
          "model_module": "@jupyter-widgets/controls",
          "model_name": "VBoxModel",
          "model_module_version": "1.5.0",
          "state": {
            "_dom_classes": [
              "widget-interact"
            ],
            "_model_module": "@jupyter-widgets/controls",
            "_model_module_version": "1.5.0",
            "_model_name": "VBoxModel",
            "_view_count": null,
            "_view_module": "@jupyter-widgets/controls",
            "_view_module_version": "1.5.0",
            "_view_name": "VBoxView",
            "box_style": "",
            "children": [
              "IPY_MODEL_d84a6f09b9914d68ad23593c8af35168",
              "IPY_MODEL_eed63d62279f4b3bad5542fe87b180f4"
            ],
            "layout": "IPY_MODEL_9e4f05de424c4e36a8ffced586efeaa5"
          }
        },
        "d84a6f09b9914d68ad23593c8af35168": {
          "model_module": "@jupyter-widgets/controls",
          "model_name": "TextModel",
          "model_module_version": "1.5.0",
          "state": {
            "_dom_classes": [],
            "_model_module": "@jupyter-widgets/controls",
            "_model_module_version": "1.5.0",
            "_model_name": "TextModel",
            "_view_count": null,
            "_view_module": "@jupyter-widgets/controls",
            "_view_module_version": "1.5.0",
            "_view_name": "TextView",
            "continuous_update": true,
            "description": "sequence",
            "description_tooltip": null,
            "disabled": false,
            "layout": "IPY_MODEL_8630a9a137c347e2a7358b27b77de3c0",
            "placeholder": "​",
            "style": "IPY_MODEL_11e669adddab421aa06ce71200d0ef70",
            "value": "AABBBCCCC"
          }
        },
        "eed63d62279f4b3bad5542fe87b180f4": {
          "model_module": "@jupyter-widgets/output",
          "model_name": "OutputModel",
          "model_module_version": "1.0.0",
          "state": {
            "_dom_classes": [],
            "_model_module": "@jupyter-widgets/output",
            "_model_module_version": "1.0.0",
            "_model_name": "OutputModel",
            "_view_count": null,
            "_view_module": "@jupyter-widgets/output",
            "_view_module_version": "1.0.0",
            "_view_name": "OutputView",
            "layout": "IPY_MODEL_04def864bfbf492ab333c2d6c902c0a8",
            "msg_id": "",
            "outputs": [
              {
                "output_type": "display_data",
                "data": {
                  "text/plain": "(<tf.Tensor: shape=(1, 1), dtype=float64, numpy=array([[22.63944485]])>,\n <tf.Tensor: shape=(1, 1), dtype=float64, numpy=array([[987.12391084]])>)"
                },
                "metadata": {}
              }
            ]
          }
        },
        "9e4f05de424c4e36a8ffced586efeaa5": {
          "model_module": "@jupyter-widgets/base",
          "model_name": "LayoutModel",
          "model_module_version": "1.2.0",
          "state": {
            "_model_module": "@jupyter-widgets/base",
            "_model_module_version": "1.2.0",
            "_model_name": "LayoutModel",
            "_view_count": null,
            "_view_module": "@jupyter-widgets/base",
            "_view_module_version": "1.2.0",
            "_view_name": "LayoutView",
            "align_content": null,
            "align_items": null,
            "align_self": null,
            "border": null,
            "bottom": null,
            "display": null,
            "flex": null,
            "flex_flow": null,
            "grid_area": null,
            "grid_auto_columns": null,
            "grid_auto_flow": null,
            "grid_auto_rows": null,
            "grid_column": null,
            "grid_gap": null,
            "grid_row": null,
            "grid_template_areas": null,
            "grid_template_columns": null,
            "grid_template_rows": null,
            "height": null,
            "justify_content": null,
            "justify_items": null,
            "left": null,
            "margin": null,
            "max_height": null,
            "max_width": null,
            "min_height": null,
            "min_width": null,
            "object_fit": null,
            "object_position": null,
            "order": null,
            "overflow": null,
            "overflow_x": null,
            "overflow_y": null,
            "padding": null,
            "right": null,
            "top": null,
            "visibility": null,
            "width": null
          }
        },
        "8630a9a137c347e2a7358b27b77de3c0": {
          "model_module": "@jupyter-widgets/base",
          "model_name": "LayoutModel",
          "model_module_version": "1.2.0",
          "state": {
            "_model_module": "@jupyter-widgets/base",
            "_model_module_version": "1.2.0",
            "_model_name": "LayoutModel",
            "_view_count": null,
            "_view_module": "@jupyter-widgets/base",
            "_view_module_version": "1.2.0",
            "_view_name": "LayoutView",
            "align_content": null,
            "align_items": null,
            "align_self": null,
            "border": null,
            "bottom": null,
            "display": null,
            "flex": null,
            "flex_flow": null,
            "grid_area": null,
            "grid_auto_columns": null,
            "grid_auto_flow": null,
            "grid_auto_rows": null,
            "grid_column": null,
            "grid_gap": null,
            "grid_row": null,
            "grid_template_areas": null,
            "grid_template_columns": null,
            "grid_template_rows": null,
            "height": null,
            "justify_content": null,
            "justify_items": null,
            "left": null,
            "margin": null,
            "max_height": null,
            "max_width": null,
            "min_height": null,
            "min_width": null,
            "object_fit": null,
            "object_position": null,
            "order": null,
            "overflow": null,
            "overflow_x": null,
            "overflow_y": null,
            "padding": null,
            "right": null,
            "top": null,
            "visibility": null,
            "width": null
          }
        },
        "11e669adddab421aa06ce71200d0ef70": {
          "model_module": "@jupyter-widgets/controls",
          "model_name": "DescriptionStyleModel",
          "model_module_version": "1.5.0",
          "state": {
            "_model_module": "@jupyter-widgets/controls",
            "_model_module_version": "1.5.0",
            "_model_name": "DescriptionStyleModel",
            "_view_count": null,
            "_view_module": "@jupyter-widgets/base",
            "_view_module_version": "1.2.0",
            "_view_name": "StyleView",
            "description_width": ""
          }
        },
        "04def864bfbf492ab333c2d6c902c0a8": {
          "model_module": "@jupyter-widgets/base",
          "model_name": "LayoutModel",
          "model_module_version": "1.2.0",
          "state": {
            "_model_module": "@jupyter-widgets/base",
            "_model_module_version": "1.2.0",
            "_model_name": "LayoutModel",
            "_view_count": null,
            "_view_module": "@jupyter-widgets/base",
            "_view_module_version": "1.2.0",
            "_view_name": "LayoutView",
            "align_content": null,
            "align_items": null,
            "align_self": null,
            "border": null,
            "bottom": null,
            "display": null,
            "flex": null,
            "flex_flow": null,
            "grid_area": null,
            "grid_auto_columns": null,
            "grid_auto_flow": null,
            "grid_auto_rows": null,
            "grid_column": null,
            "grid_gap": null,
            "grid_row": null,
            "grid_template_areas": null,
            "grid_template_columns": null,
            "grid_template_rows": null,
            "height": null,
            "justify_content": null,
            "justify_items": null,
            "left": null,
            "margin": null,
            "max_height": null,
            "max_width": null,
            "min_height": null,
            "min_width": null,
            "object_fit": null,
            "object_position": null,
            "order": null,
            "overflow": null,
            "overflow_x": null,
            "overflow_y": null,
            "padding": null,
            "right": null,
            "top": null,
            "visibility": null,
            "width": null
          }
        }
      }
    }
  },
  "nbformat": 4,
  "nbformat_minor": 0
}