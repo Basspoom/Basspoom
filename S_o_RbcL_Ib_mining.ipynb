{
  "cells": [
    {
      "cell_type": "markdown",
      "metadata": {
        "id": "view-in-github",
        "colab_type": "text"
      },
      "source": [
        "<a href=\"https://colab.research.google.com/github/Basspoom/Basspoom/blob/main/S_o_RbcL_Ib_mining.ipynb\" target=\"_parent\"><img src=\"https://colab.research.google.com/assets/colab-badge.svg\" alt=\"Open In Colab\"/></a>"
      ]
    },
    {
      "cell_type": "markdown",
      "metadata": {
        "id": "mEhLpe1ZgXya"
      },
      "source": [
        "### **RbcL Ib mining**\n",
        "The model in this notebook allows the prediction of the plant Rubisco kinetic parameter, Specificity for CO2 over O2 (Sc/o), based on the Rubisco large subunit (rbcl) protein sequence.\n",
        "\n",
        "Details of the model can be found in the published paper:\n",
        "\n",
        "\n",
        "Basic instructions for use:\n",
        "1. Model predictions can be obtained faster by setting the runtime as a 'TPU' via 'runtime --> change runtime type'.  \n",
        "2. Load each step of the notebook using the 'play' button as instructed below:"
      ]
    },
    {
      "cell_type": "code",
      "execution_count": null,
      "metadata": {
        "id": "0AAqi453fVxy"
      },
      "outputs": [],
      "source": [
        "#@title Import dependencies. Will take approx 10 minutes to load.\n",
        "!pip install tensorflow==2.8.0 tensorflow_probability==0.16.0 # need this version so that I can load my saved gaussian process model\n",
        "!pip install gpflow\n",
        "from IPython.display import clear_output\n",
        "clear_output()\n",
        "!pip install glob2\n",
        "clear_output()\n",
        "import torch\n",
        "!git clone https://github.com/Iqbalwasim01/esm.git\n",
        "!pip install esm/\n",
        "import esm\n",
        "model, alphabet = esm.pretrained.esm1b_t33_650M_UR50S()\n",
        "batch_converter = alphabet.get_batch_converter()\n",
        "clear_output()\n",
        "from pickle import LIST\n",
        "from typing import List\n",
        "from typing_extensions import Final\n",
        "from numpy.core.defchararray import count\n",
        "import torch\n",
        "import pandas\n",
        "import numpy\n",
        "import os\n",
        "from numpy.core import numeric\n",
        "from pathlib import Path\n",
        "import glob\n",
        "from ipywidgets import interact, interactive, fixed, interact_manual\n",
        "import ipywidgets as widgets\n",
        "import timeit\n",
        "import tensorflow as tf\n",
        "import time\n",
        "\n",
        "time.sleep(1)  # add a delay of 5 seconds\n"
      ]
    },
    {
      "cell_type": "code",
      "execution_count": null,
      "metadata": {
        "id": "5qQJL6AGmWu7"
      },
      "outputs": [],
      "source": [
        "#@title Load pretrained models. Will take approx 2 minutes\n",
        "# Gaussian process regression pretrained model\n",
        "\n",
        "#attempts = 0 # need this function. When importing gpflow package it fails the first two times due to package comptability conflicts.\n",
        "#while attempts < 3:\n",
        "    #try:\n",
        "        #import gpflow\n",
        "        #break\n",
        "    #except:\n",
        "        #attempts += 1\n",
        "        #time.sleep(1)  # wait for 1 second before retrying\n",
        "\n",
        "#from gpflow import kernels, models\n",
        "#from gpflow.utilities import print_summary, set_trainable\n",
        "\n",
        "!git clone https://github.com/Iqbalwasim01/RbcLIB_Mining_Sc-o.git\n",
        "!unzip /content/RbcLIB_Mining_Sc-o/SavedModel.zip\n",
        "%cd \"/content/SavedModel\"\n",
        "loaded_model=tf.saved_model.load(\"/content/SavedModel\")\n",
        "clear_output()"
      ]
    },
    {
      "cell_type": "code",
      "execution_count": null,
      "metadata": {
        "id": "WbJt1k6fmSb7"
      },
      "outputs": [],
      "source": [
        "#@title\n",
        "# Calculate embeddings\n",
        "def ESM(sequence):\n",
        "\n",
        "  global df_results\n",
        "\n",
        "  data=[(\"protein\",sequence)]\n",
        "\n",
        "  model.eval()  # disables dropout for deterministic results\n",
        "\n",
        "  batch_labels, batch_strs, batch_tokens = batch_converter(data)\n",
        "  # Extract per-residue representations (on CPU)\n",
        "  with torch.no_grad():\n",
        "    results = model(batch_tokens, repr_layers=[33], return_contacts=True)\n",
        "  token_representations = results[\"representations\"][33]\n",
        "\n",
        "  # Generate per-sequence representations via averaging\n",
        "  # NOTE: token 0 is always a beginning-of-sequence token, so the first residue is token 1.\n",
        "  sequence_representations = []\n",
        "  for i, (_, seq) in enumerate(data):\n",
        "    sequence_representations.append(token_representations[i, 1 : len(seq) + 1].mean(0))\n",
        "\n",
        "  for s in sequence_representations:\n",
        "    samples=s.numpy()\n",
        "    samples=samples.reshape(1,1280)\n",
        "\n",
        "  #inputs=tf.convert_to_tensor(samples,dtype=default_float())\n",
        "  mean, var=loaded_model.predict_f_compiled(samples)\n",
        "  return mean,var"
      ]
    },
    {
      "cell_type": "markdown",
      "metadata": {
        "id": "5LY-HkdUu_cW"
      },
      "source": [
        "Paste your sequence in the box which will appear below after the 'play' button has been selected. The mean and variance will appear after a few seconds.\n",
        "\n",
        "We recommend that your sequence length be >450 and <600.\n",
        "\n",
        "The first run always takes a few minutes to load.\n",
        "\n",
        "NOTE: Make sure each protein sequence contains no spaces or line breaks, otherwise an error will occur."
      ]
    },
    {
      "cell_type": "code",
      "execution_count": null,
      "metadata": {
        "id": "C0R91eZ2x-eJ",
        "colab": {
          "base_uri": "https://localhost:8080/",
          "height": 101,
          "referenced_widgets": [
            "b1060858aba245699f530d5420065be9",
            "dfd5a337d0304a4daca3b754e9206a8d",
            "8cf0764ff5944d0a993b8e5c1c042434",
            "92f8714c28d2431e90f29102798ac20f",
            "a62b4c6f450347ccac5136f2fb5558a2",
            "224dd1ebd2374627add5644ded0071be",
            "405cf86ff4224d76a57fe534aa67d037"
          ]
        },
        "outputId": "80aa2c44-d23b-44e4-ac8d-e39f75bdb921"
      },
      "outputs": [
        {
          "output_type": "display_data",
          "data": {
            "text/plain": [
              "interactive(children=(Text(value='AABBBCCCC', description='sequence'), Output()), _dom_classes=('widget-intera…"
            ],
            "application/vnd.jupyter.widget-view+json": {
              "version_major": 2,
              "version_minor": 0,
              "model_id": "b1060858aba245699f530d5420065be9"
            }
          },
          "metadata": {}
        },
        {
          "output_type": "execute_result",
          "data": {
            "text/plain": [
              "<function __main__.ESM(sequence)>"
            ]
          },
          "metadata": {},
          "execution_count": 4
        }
      ],
      "source": [
        "#@title\n",
        "\n",
        "#from gpflow.config import default_float\n",
        "#gpflow.config.set_default_float(numpy.float64)\n",
        "\n",
        "interact(ESM,sequence=\"AABBBCCCC\")"
      ]
    },
    {
      "cell_type": "markdown",
      "metadata": {
        "id": "nlSdopG_Gnb0"
      },
      "source": [
        "Alternatively, upload a .csv file formatted with the exact column names: \"Species.name\" & \"seq\"\n",
        "\n",
        "We recommend that your sequence length be >450 and <600.\n",
        "\n",
        "NOTE: Make sure each protein sequence contains no spaces or line breaks, otherwise an error will occur."
      ]
    },
    {
      "cell_type": "code",
      "execution_count": null,
      "metadata": {
        "cellView": "form",
        "id": "d4re0VGDGeiQ",
        "colab": {
          "base_uri": "https://localhost:8080/",
          "height": 49,
          "referenced_widgets": [
            "a85f09ec6fc2432eada2344cbaec1962",
            "8cf03b2e09a141019ead2b2eabb2a75e",
            "293a5aa43d034f599c2b1219b2aed0af"
          ]
        },
        "outputId": "58e83192-01ab-4b08-e1d2-7e28943677fc"
      },
      "outputs": [
        {
          "output_type": "display_data",
          "data": {
            "text/plain": [
              "FileUpload(value={}, accept='.csv', description='Upload')"
            ],
            "application/vnd.jupyter.widget-view+json": {
              "version_major": 2,
              "version_minor": 0,
              "model_id": "a85f09ec6fc2432eada2344cbaec1962"
            }
          },
          "metadata": {}
        }
      ],
      "source": [
        "#@title\n",
        "uploader=widgets.FileUpload(\n",
        "    accept='.csv',  # Accepted file extension e.g. '.txt', '.pdf', 'image/*', 'image/*,.pdf'\n",
        "    multiple=False  # True to accept multiple files upload else False\n",
        ")\n",
        "display(uploader)\n",
        "\n"
      ]
    },
    {
      "cell_type": "code",
      "execution_count": null,
      "metadata": {
        "id": "4oReG3xaNEtA",
        "colab": {
          "base_uri": "https://localhost:8080/",
          "height": 34
        },
        "outputId": "f1dc96f8-752d-4c15-9075-43706e6adf2a"
      },
      "outputs": [
        {
          "output_type": "stream",
          "name": "stderr",
          "text": [
            "100%|██████████| 9540/9540 [3:47:33<00:00,  1.43s/it]\n"
          ]
        },
        {
          "output_type": "display_data",
          "data": {
            "text/plain": [
              "<IPython.core.display.Javascript object>"
            ],
            "application/javascript": [
              "\n",
              "    async function download(id, filename, size) {\n",
              "      if (!google.colab.kernel.accessAllowed) {\n",
              "        return;\n",
              "      }\n",
              "      const div = document.createElement('div');\n",
              "      const label = document.createElement('label');\n",
              "      label.textContent = `Downloading \"${filename}\": `;\n",
              "      div.appendChild(label);\n",
              "      const progress = document.createElement('progress');\n",
              "      progress.max = size;\n",
              "      div.appendChild(progress);\n",
              "      document.body.appendChild(div);\n",
              "\n",
              "      const buffers = [];\n",
              "      let downloaded = 0;\n",
              "\n",
              "      const channel = await google.colab.kernel.comms.open(id);\n",
              "      // Send a message to notify the kernel that we're ready.\n",
              "      channel.send({})\n",
              "\n",
              "      for await (const message of channel.messages) {\n",
              "        // Send a message to notify the kernel that we're ready.\n",
              "        channel.send({})\n",
              "        if (message.buffers) {\n",
              "          for (const buffer of message.buffers) {\n",
              "            buffers.push(buffer);\n",
              "            downloaded += buffer.byteLength;\n",
              "            progress.value = downloaded;\n",
              "          }\n",
              "        }\n",
              "      }\n",
              "      const blob = new Blob(buffers, {type: 'application/binary'});\n",
              "      const a = document.createElement('a');\n",
              "      a.href = window.URL.createObjectURL(blob);\n",
              "      a.download = filename;\n",
              "      div.appendChild(a);\n",
              "      a.click();\n",
              "      div.remove();\n",
              "    }\n",
              "  "
            ]
          },
          "metadata": {}
        },
        {
          "output_type": "display_data",
          "data": {
            "text/plain": [
              "<IPython.core.display.Javascript object>"
            ],
            "application/javascript": [
              "download(\"download_34fcbaac-b0e4-4a11-bd39-149f0c61cf4b\", \"bigdata.csv\", 349222)"
            ]
          },
          "metadata": {}
        }
      ],
      "source": [
        "#@title Run cell to predict activity from uploaded file\n",
        "from tqdm import tqdm\n",
        "import io\n",
        "import pandas as pd\n",
        "import gc\n",
        "\n",
        "input_file = list(uploader.value.values())[0]\n",
        "content = input_file['content']\n",
        "content = io.StringIO(content.decode('ISO-8859-1'))\n",
        "df = pd.read_csv(content)\n",
        "\n",
        "Species_name=df[\"Species.name\"].to_numpy()\n",
        "Sequence=df[\"seq\"].to_numpy()\n",
        "\n",
        "#from gpflow.config import default_float\n",
        "#gpflow.config.set_default_float(numpy.float64)\n",
        "\n",
        "mean_=[]\n",
        "var_=[]\n",
        "for i in tqdm(Sequence):\n",
        "  gc.disable() # reduces loop time by disabling garbage collector\n",
        "  mean,var=ESM(sequence=i)\n",
        "  mean=mean.numpy()[0]; var=var.numpy()[0]\n",
        "  mean_.append(mean); var_.append(var) # faster than append\n",
        "gc.enable()\n",
        "\n",
        "bigdata=pd.DataFrame({'mean':mean_,'var':var_},columns=['mean','var'])\n",
        "bigdata['Species.new'] = Species_name\n",
        "from google.colab import files\n",
        "bigdata.to_csv('bigdata.csv')\n",
        "files.download('bigdata.csv')"
      ]
    }
  ],
  "metadata": {
    "accelerator": "TPU",
    "colab": {
      "machine_shape": "hm",
      "provenance": [],
      "include_colab_link": true
    },
    "kernelspec": {
      "display_name": "Python 3",
      "name": "python3"
    },
    "language_info": {
      "name": "python"
    },
    "widgets": {
      "application/vnd.jupyter.widget-state+json": {
        "b1060858aba245699f530d5420065be9": {
          "model_module": "@jupyter-widgets/controls",
          "model_name": "VBoxModel",
          "model_module_version": "1.5.0",
          "state": {
            "_dom_classes": [
              "widget-interact"
            ],
            "_model_module": "@jupyter-widgets/controls",
            "_model_module_version": "1.5.0",
            "_model_name": "VBoxModel",
            "_view_count": null,
            "_view_module": "@jupyter-widgets/controls",
            "_view_module_version": "1.5.0",
            "_view_name": "VBoxView",
            "box_style": "",
            "children": [
              "IPY_MODEL_dfd5a337d0304a4daca3b754e9206a8d",
              "IPY_MODEL_8cf0764ff5944d0a993b8e5c1c042434"
            ],
            "layout": "IPY_MODEL_92f8714c28d2431e90f29102798ac20f"
          }
        },
        "dfd5a337d0304a4daca3b754e9206a8d": {
          "model_module": "@jupyter-widgets/controls",
          "model_name": "TextModel",
          "model_module_version": "1.5.0",
          "state": {
            "_dom_classes": [],
            "_model_module": "@jupyter-widgets/controls",
            "_model_module_version": "1.5.0",
            "_model_name": "TextModel",
            "_view_count": null,
            "_view_module": "@jupyter-widgets/controls",
            "_view_module_version": "1.5.0",
            "_view_name": "TextView",
            "continuous_update": true,
            "description": "sequence",
            "description_tooltip": null,
            "disabled": false,
            "layout": "IPY_MODEL_a62b4c6f450347ccac5136f2fb5558a2",
            "placeholder": "​",
            "style": "IPY_MODEL_224dd1ebd2374627add5644ded0071be",
            "value": "AABBBCCCC"
          }
        },
        "8cf0764ff5944d0a993b8e5c1c042434": {
          "model_module": "@jupyter-widgets/output",
          "model_name": "OutputModel",
          "model_module_version": "1.0.0",
          "state": {
            "_dom_classes": [],
            "_model_module": "@jupyter-widgets/output",
            "_model_module_version": "1.0.0",
            "_model_name": "OutputModel",
            "_view_count": null,
            "_view_module": "@jupyter-widgets/output",
            "_view_module_version": "1.0.0",
            "_view_name": "OutputView",
            "layout": "IPY_MODEL_405cf86ff4224d76a57fe534aa67d037",
            "msg_id": "",
            "outputs": [
              {
                "output_type": "display_data",
                "data": {
                  "text/plain": "(<tf.Tensor: shape=(1, 1), dtype=float64, numpy=array([[48.8620957]])>,\n <tf.Tensor: shape=(1, 1), dtype=float64, numpy=array([[3351.41841449]])>)"
                },
                "metadata": {}
              }
            ]
          }
        },
        "92f8714c28d2431e90f29102798ac20f": {
          "model_module": "@jupyter-widgets/base",
          "model_name": "LayoutModel",
          "model_module_version": "1.2.0",
          "state": {
            "_model_module": "@jupyter-widgets/base",
            "_model_module_version": "1.2.0",
            "_model_name": "LayoutModel",
            "_view_count": null,
            "_view_module": "@jupyter-widgets/base",
            "_view_module_version": "1.2.0",
            "_view_name": "LayoutView",
            "align_content": null,
            "align_items": null,
            "align_self": null,
            "border": null,
            "bottom": null,
            "display": null,
            "flex": null,
            "flex_flow": null,
            "grid_area": null,
            "grid_auto_columns": null,
            "grid_auto_flow": null,
            "grid_auto_rows": null,
            "grid_column": null,
            "grid_gap": null,
            "grid_row": null,
            "grid_template_areas": null,
            "grid_template_columns": null,
            "grid_template_rows": null,
            "height": null,
            "justify_content": null,
            "justify_items": null,
            "left": null,
            "margin": null,
            "max_height": null,
            "max_width": null,
            "min_height": null,
            "min_width": null,
            "object_fit": null,
            "object_position": null,
            "order": null,
            "overflow": null,
            "overflow_x": null,
            "overflow_y": null,
            "padding": null,
            "right": null,
            "top": null,
            "visibility": null,
            "width": null
          }
        },
        "a62b4c6f450347ccac5136f2fb5558a2": {
          "model_module": "@jupyter-widgets/base",
          "model_name": "LayoutModel",
          "model_module_version": "1.2.0",
          "state": {
            "_model_module": "@jupyter-widgets/base",
            "_model_module_version": "1.2.0",
            "_model_name": "LayoutModel",
            "_view_count": null,
            "_view_module": "@jupyter-widgets/base",
            "_view_module_version": "1.2.0",
            "_view_name": "LayoutView",
            "align_content": null,
            "align_items": null,
            "align_self": null,
            "border": null,
            "bottom": null,
            "display": null,
            "flex": null,
            "flex_flow": null,
            "grid_area": null,
            "grid_auto_columns": null,
            "grid_auto_flow": null,
            "grid_auto_rows": null,
            "grid_column": null,
            "grid_gap": null,
            "grid_row": null,
            "grid_template_areas": null,
            "grid_template_columns": null,
            "grid_template_rows": null,
            "height": null,
            "justify_content": null,
            "justify_items": null,
            "left": null,
            "margin": null,
            "max_height": null,
            "max_width": null,
            "min_height": null,
            "min_width": null,
            "object_fit": null,
            "object_position": null,
            "order": null,
            "overflow": null,
            "overflow_x": null,
            "overflow_y": null,
            "padding": null,
            "right": null,
            "top": null,
            "visibility": null,
            "width": null
          }
        },
        "224dd1ebd2374627add5644ded0071be": {
          "model_module": "@jupyter-widgets/controls",
          "model_name": "DescriptionStyleModel",
          "model_module_version": "1.5.0",
          "state": {
            "_model_module": "@jupyter-widgets/controls",
            "_model_module_version": "1.5.0",
            "_model_name": "DescriptionStyleModel",
            "_view_count": null,
            "_view_module": "@jupyter-widgets/base",
            "_view_module_version": "1.2.0",
            "_view_name": "StyleView",
            "description_width": ""
          }
        },
        "405cf86ff4224d76a57fe534aa67d037": {
          "model_module": "@jupyter-widgets/base",
          "model_name": "LayoutModel",
          "model_module_version": "1.2.0",
          "state": {
            "_model_module": "@jupyter-widgets/base",
            "_model_module_version": "1.2.0",
            "_model_name": "LayoutModel",
            "_view_count": null,
            "_view_module": "@jupyter-widgets/base",
            "_view_module_version": "1.2.0",
            "_view_name": "LayoutView",
            "align_content": null,
            "align_items": null,
            "align_self": null,
            "border": null,
            "bottom": null,
            "display": null,
            "flex": null,
            "flex_flow": null,
            "grid_area": null,
            "grid_auto_columns": null,
            "grid_auto_flow": null,
            "grid_auto_rows": null,
            "grid_column": null,
            "grid_gap": null,
            "grid_row": null,
            "grid_template_areas": null,
            "grid_template_columns": null,
            "grid_template_rows": null,
            "height": null,
            "justify_content": null,
            "justify_items": null,
            "left": null,
            "margin": null,
            "max_height": null,
            "max_width": null,
            "min_height": null,
            "min_width": null,
            "object_fit": null,
            "object_position": null,
            "order": null,
            "overflow": null,
            "overflow_x": null,
            "overflow_y": null,
            "padding": null,
            "right": null,
            "top": null,
            "visibility": null,
            "width": null
          }
        },
        "a85f09ec6fc2432eada2344cbaec1962": {
          "model_module": "@jupyter-widgets/controls",
          "model_name": "FileUploadModel",
          "model_module_version": "1.5.0",
          "state": {
            "_counter": 1,
            "_dom_classes": [],
            "_model_module": "@jupyter-widgets/controls",
            "_model_module_version": "1.5.0",
            "_model_name": "FileUploadModel",
            "_view_count": null,
            "_view_module": "@jupyter-widgets/controls",
            "_view_module_version": "1.5.0",
            "_view_name": "FileUploadView",
            "accept": ".csv",
            "button_style": "",
            "data": [
              null
            ],
            "description": "Upload",
            "description_tooltip": null,
            "disabled": false,
            "error": "",
            "icon": "upload",
            "layout": "IPY_MODEL_8cf03b2e09a141019ead2b2eabb2a75e",
            "metadata": [
              {
                "name": "All_tobaccosamsun_point_mutations.csv",
                "type": "text/csv",
                "size": 5115481,
                "lastModified": 1669297558432
              }
            ],
            "multiple": false,
            "style": "IPY_MODEL_293a5aa43d034f599c2b1219b2aed0af"
          }
        },
        "8cf03b2e09a141019ead2b2eabb2a75e": {
          "model_module": "@jupyter-widgets/base",
          "model_name": "LayoutModel",
          "model_module_version": "1.2.0",
          "state": {
            "_model_module": "@jupyter-widgets/base",
            "_model_module_version": "1.2.0",
            "_model_name": "LayoutModel",
            "_view_count": null,
            "_view_module": "@jupyter-widgets/base",
            "_view_module_version": "1.2.0",
            "_view_name": "LayoutView",
            "align_content": null,
            "align_items": null,
            "align_self": null,
            "border": null,
            "bottom": null,
            "display": null,
            "flex": null,
            "flex_flow": null,
            "grid_area": null,
            "grid_auto_columns": null,
            "grid_auto_flow": null,
            "grid_auto_rows": null,
            "grid_column": null,
            "grid_gap": null,
            "grid_row": null,
            "grid_template_areas": null,
            "grid_template_columns": null,
            "grid_template_rows": null,
            "height": null,
            "justify_content": null,
            "justify_items": null,
            "left": null,
            "margin": null,
            "max_height": null,
            "max_width": null,
            "min_height": null,
            "min_width": null,
            "object_fit": null,
            "object_position": null,
            "order": null,
            "overflow": null,
            "overflow_x": null,
            "overflow_y": null,
            "padding": null,
            "right": null,
            "top": null,
            "visibility": null,
            "width": null
          }
        },
        "293a5aa43d034f599c2b1219b2aed0af": {
          "model_module": "@jupyter-widgets/controls",
          "model_name": "ButtonStyleModel",
          "model_module_version": "1.5.0",
          "state": {
            "_model_module": "@jupyter-widgets/controls",
            "_model_module_version": "1.5.0",
            "_model_name": "ButtonStyleModel",
            "_view_count": null,
            "_view_module": "@jupyter-widgets/base",
            "_view_module_version": "1.2.0",
            "_view_name": "StyleView",
            "button_color": null,
            "font_weight": ""
          }
        }
      }
    },
    "gpuClass": "standard"
  },
  "nbformat": 4,
  "nbformat_minor": 0
}