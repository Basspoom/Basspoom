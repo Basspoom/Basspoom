{
  "cells": [
    {
      "cell_type": "markdown",
      "metadata": {
        "id": "view-in-github",
        "colab_type": "text"
      },
      "source": [
        "<a href=\"https://colab.research.google.com/github/Basspoom/Basspoom/blob/main/RbcL_Ib_mining.ipynb\" target=\"_parent\"><img src=\"https://colab.research.google.com/assets/colab-badge.svg\" alt=\"Open In Colab\"/></a>"
      ]
    },
    {
      "cell_type": "markdown",
      "metadata": {
        "id": "mEhLpe1ZgXya"
      },
      "source": [
        "### **RbcL Ib mining**\n",
        "The model in this notebook allows the prediction of the plant Rubisco kinetic paramater, carboxylation turnover rate (Kcat), based on the Rubisco large subunit (rbcl) protein sequence.\n",
        "\n",
        "Details of the model can be found in the published paper:\n",
        "\n",
        "\n",
        "Basic instructions for use:\n",
        "1. Model predictions can be obtained faster by setting the runtime as a 'TPU' via 'runtime --> change runtime type'.  \n",
        "2. Load each step of the notebook using the 'play' button as instructed below:"
      ]
    },
    {
      "cell_type": "code",
      "execution_count": null,
      "metadata": {
        "cellView": "form",
        "id": "0AAqi453fVxy"
      },
      "outputs": [],
      "source": [
        "#@title Import dependencies. Will take approx 10 minutes to load.\n",
        "!pip install tensorflow==2.8.0 tensorflow_probability==0.16.0 # need this version so that I can load my saved gaussian process model\n",
        "#!pip install gpflow\n",
        "from IPython.display import clear_output\n",
        "clear_output()\n",
        "!pip install glob2\n",
        "clear_output()\n",
        "import torch\n",
        "!git clone https://github.com/Iqbalwasim01/esm.git\n",
        "!pip install esm/\n",
        "import esm\n",
        "model, alphabet = esm.pretrained.esm1b_t33_650M_UR50S()\n",
        "batch_converter = alphabet.get_batch_converter()\n",
        "clear_output()\n",
        "from pickle import LIST\n",
        "from typing import List\n",
        "from typing_extensions import Final\n",
        "from numpy.core.defchararray import count\n",
        "import pandas\n",
        "import numpy\n",
        "import os\n",
        "from numpy.core import numeric\n",
        "from pathlib import Path\n",
        "import glob\n",
        "from ipywidgets import interact, interactive, fixed, interact_manual\n",
        "import ipywidgets as widgets\n",
        "import timeit\n",
        "import tensorflow as tf\n",
        "import time\n",
        "time.sleep(1)"
      ]
    },
    {
      "cell_type": "code",
      "execution_count": null,
      "metadata": {
        "cellView": "form",
        "id": "5qQJL6AGmWu7"
      },
      "outputs": [],
      "source": [
        "#@title Load pretrained models. Will take approx 2 minutes\n",
        "# Gaussian process regression pretrained model\n",
        "\n",
        "#attempts = 0 # need this function. When importing gpflow package it fails the first two times due to package comptability conflicts.\n",
        "#while attempts < 3:\n",
        "    #try:\n",
        "        #import gpflow\n",
        "        #break\n",
        "    #except:\n",
        "        #attempts += 1\n",
        "        #time.sleep(1)  # wait for 1 second before retrying\n",
        "\n",
        "#from gpflow import kernels, models\n",
        "#from gpflow.utilities import print_summary, set_trainable\n",
        "\n",
        "!git clone https://github.com/Iqbalwasim01/RbcL-1b-mining.git\n",
        "!unzip /content/RbcL-1b-mining/SavedModel.zip\n",
        "%cd \"/content/SavedModel\"\n",
        "loaded_model=tf.saved_model.load(\"/content/SavedModel\")\n",
        "clear_output()"
      ]
    },
    {
      "cell_type": "code",
      "execution_count": null,
      "metadata": {
        "cellView": "form",
        "id": "WbJt1k6fmSb7"
      },
      "outputs": [],
      "source": [
        "#@title\n",
        "# Calculate embeddings\n",
        "\n",
        "\n",
        "def ESM(sequence):\n",
        "\n",
        "  global df_results\n",
        "\n",
        "  data=[(\"protein\",sequence)]\n",
        "\n",
        "  model.eval()  # disables dropout for deterministic results\n",
        "\n",
        "  batch_labels, batch_strs, batch_tokens = batch_converter(data)\n",
        "  # Extract per-residue representations (on CPU)\n",
        "  with torch.no_grad():\n",
        "    results = model(batch_tokens, repr_layers=[33], return_contacts=True)\n",
        "  token_representations = results[\"representations\"][33]\n",
        "\n",
        "  # Generate per-sequence representations via averaging\n",
        "  # NOTE: token 0 is always a beginning-of-sequence token, so the first residue is token 1.\n",
        "  sequence_representations = []\n",
        "  for i, (_, seq) in enumerate(data):\n",
        "    sequence_representations.append(token_representations[i, 1 : len(seq) + 1].mean(0))\n",
        "\n",
        "  for s in sequence_representations:\n",
        "    samples=s.numpy()\n",
        "    samples=samples.reshape(1,1280)\n",
        "\n",
        "  #inputs=tf.convert_to_tensor(samples,dtype=default_type())\n",
        "  mean, var=loaded_model.predict_f_compiled(samples)\n",
        "  return mean,var"
      ]
    },
    {
      "cell_type": "markdown",
      "metadata": {
        "id": "5LY-HkdUu_cW"
      },
      "source": [
        "Paste your sequence in the box which will appear below. The mean and variance will appear after a few seconds.\n",
        "\n",
        "The first run always takes a few minutes to load.\n",
        "\n",
        "NOTE: Make sure each protein sequence contains no spaces or line breaks, otherwise an error will occur."
      ]
    },
    {
      "cell_type": "code",
      "execution_count": null,
      "metadata": {
        "cellView": "form",
        "colab": {
          "base_uri": "https://localhost:8080/",
          "height": 172,
          "referenced_widgets": [
            "79276e63bb734e7fbf6cd78b0fccd590",
            "922bb38c3ea74d65a0215d8fe5fd9e3a",
            "b5c129da2aa74758a61f701a033ebb4e",
            "7bdd955e378442ef97891660daf65c7e",
            "d7357f5fc2104739954ba07b50e28e1f",
            "70be2a00f3e646679d19795206b86693",
            "23f00dd4ce97430d871b8ddba62360eb"
          ]
        },
        "id": "C0R91eZ2x-eJ",
        "outputId": "77feafb4-d395-4d14-c1ab-581067dc6798"
      },
      "outputs": [
        {
          "output_type": "display_data",
          "data": {
            "text/plain": [
              "interactive(children=(Text(value='AABBBCCCC', description='sequence'), Output()), _dom_classes=('widget-intera…"
            ],
            "application/vnd.jupyter.widget-view+json": {
              "version_major": 2,
              "version_minor": 0,
              "model_id": "79276e63bb734e7fbf6cd78b0fccd590"
            }
          },
          "metadata": {}
        },
        {
          "output_type": "execute_result",
          "data": {
            "text/plain": [
              "<function __main__.ESM(sequence)>"
            ],
            "text/html": [
              "<div style=\"max-width:800px; border: 1px solid var(--colab-border-color);\"><style>\n",
              "      pre.function-repr-contents {\n",
              "        overflow-x: auto;\n",
              "        padding: 8px 12px;\n",
              "        max-height: 500px;\n",
              "      }\n",
              "\n",
              "      pre.function-repr-contents.function-repr-contents-collapsed {\n",
              "        cursor: pointer;\n",
              "        max-height: 100px;\n",
              "      }\n",
              "    </style>\n",
              "    <pre style=\"white-space: initial; background:\n",
              "         var(--colab-secondary-surface-color); padding: 8px 12px;\n",
              "         border-bottom: 1px solid var(--colab-border-color);\"><b>ESM</b><br/>def ESM(sequence)</pre><pre class=\"function-repr-contents function-repr-contents-collapsed\" style=\"\"><a class=\"filepath\" style=\"display:none\" href=\"#\">/content/SavedModel/&lt;ipython-input-5-8258efd4e380&gt;</a>&lt;no docstring&gt;</pre></div>"
            ]
          },
          "metadata": {},
          "execution_count": 6
        }
      ],
      "source": [
        "#@title\n",
        "\n",
        "#from gpflow.config import default_float\n",
        "#gpflow.config.set_default_float(numpy.float64)\n",
        "\n",
        "interact(ESM,sequence=\"AABBBCCCC\")"
      ]
    },
    {
      "cell_type": "markdown",
      "metadata": {
        "id": "nlSdopG_Gnb0"
      },
      "source": [
        "Alternatively, upload a .csv file formatted with the exact column names: \"Species.name\" & \"seq\"\n",
        "\n",
        "NOTE: Make sure each protein sequence contains no spaces or line breaks, otherwise an error will occur."
      ]
    },
    {
      "cell_type": "code",
      "execution_count": null,
      "metadata": {
        "cellView": "form",
        "id": "d4re0VGDGeiQ",
        "colab": {
          "base_uri": "https://localhost:8080/",
          "height": 49,
          "referenced_widgets": [
            "a762314700f440f3ae84495206789cb2",
            "1ebe7169341745df82ab1e19fd7fb832",
            "626960b77c544f8cb2dcda61996d0afa"
          ]
        },
        "outputId": "79f59641-5dc8-4ab7-c545-e824f424bbc9"
      },
      "outputs": [
        {
          "output_type": "display_data",
          "data": {
            "text/plain": [
              "FileUpload(value={}, accept='.csv', description='Upload')"
            ],
            "application/vnd.jupyter.widget-view+json": {
              "version_major": 2,
              "version_minor": 0,
              "model_id": "a762314700f440f3ae84495206789cb2"
            }
          },
          "metadata": {}
        }
      ],
      "source": [
        "#@title\n",
        "uploader=widgets.FileUpload(\n",
        "    accept='.csv',  # Accepted file extension e.g. '.txt', '.pdf', 'image/*', 'image/*,.pdf'\n",
        "    multiple=False  # True to accept multiple files upload else False\n",
        ")\n",
        "display(uploader)"
      ]
    },
    {
      "cell_type": "code",
      "execution_count": null,
      "metadata": {
        "cellView": "form",
        "id": "4oReG3xaNEtA",
        "colab": {
          "base_uri": "https://localhost:8080/",
          "height": 219
        },
        "outputId": "2d4d51ce-7d12-40f7-e732-1453cff285e6"
      },
      "outputs": [
        {
          "output_type": "error",
          "ename": "IndexError",
          "evalue": "list index out of range",
          "traceback": [
            "\u001b[0;31m---------------------------------------------------------------------------\u001b[0m",
            "\u001b[0;31mIndexError\u001b[0m                                Traceback (most recent call last)",
            "\u001b[0;32m<ipython-input-8-69081c0a97c5>\u001b[0m in \u001b[0;36m<cell line: 7>\u001b[0;34m()\u001b[0m\n\u001b[1;32m      5\u001b[0m \u001b[0;32mimport\u001b[0m \u001b[0mgc\u001b[0m\u001b[0;34m\u001b[0m\u001b[0;34m\u001b[0m\u001b[0m\n\u001b[1;32m      6\u001b[0m \u001b[0;34m\u001b[0m\u001b[0m\n\u001b[0;32m----> 7\u001b[0;31m \u001b[0minput_file\u001b[0m \u001b[0;34m=\u001b[0m \u001b[0mlist\u001b[0m\u001b[0;34m(\u001b[0m\u001b[0muploader\u001b[0m\u001b[0;34m.\u001b[0m\u001b[0mvalue\u001b[0m\u001b[0;34m.\u001b[0m\u001b[0mvalues\u001b[0m\u001b[0;34m(\u001b[0m\u001b[0;34m)\u001b[0m\u001b[0;34m)\u001b[0m\u001b[0;34m[\u001b[0m\u001b[0;36m0\u001b[0m\u001b[0;34m]\u001b[0m\u001b[0;34m\u001b[0m\u001b[0;34m\u001b[0m\u001b[0m\n\u001b[0m\u001b[1;32m      8\u001b[0m \u001b[0mcontent\u001b[0m \u001b[0;34m=\u001b[0m \u001b[0minput_file\u001b[0m\u001b[0;34m[\u001b[0m\u001b[0;34m'content'\u001b[0m\u001b[0;34m]\u001b[0m\u001b[0;34m\u001b[0m\u001b[0;34m\u001b[0m\u001b[0m\n\u001b[1;32m      9\u001b[0m \u001b[0mcontent\u001b[0m \u001b[0;34m=\u001b[0m \u001b[0mio\u001b[0m\u001b[0;34m.\u001b[0m\u001b[0mStringIO\u001b[0m\u001b[0;34m(\u001b[0m\u001b[0mcontent\u001b[0m\u001b[0;34m.\u001b[0m\u001b[0mdecode\u001b[0m\u001b[0;34m(\u001b[0m\u001b[0;34m'ISO-8859-1'\u001b[0m\u001b[0;34m)\u001b[0m\u001b[0;34m)\u001b[0m\u001b[0;34m\u001b[0m\u001b[0;34m\u001b[0m\u001b[0m\n",
            "\u001b[0;31mIndexError\u001b[0m: list index out of range"
          ]
        }
      ],
      "source": [
        "#@title Run cell to predict activity from uploaded file\n",
        "from tqdm import tqdm\n",
        "import io\n",
        "import pandas as pd\n",
        "import gc\n",
        "\n",
        "input_file = list(uploader.value.values())[0]\n",
        "content = input_file['content']\n",
        "content = io.StringIO(content.decode('ISO-8859-1'))\n",
        "df = pd.read_csv(content)\n",
        "\n",
        "\n",
        "Species_name=df[\"Species.name\"].to_numpy()\n",
        "Sequence=df[\"seq\"].to_numpy()\n",
        "\n",
        "mean_=[]\n",
        "var_=[]\n",
        "\n",
        "for i in tqdm(Sequence):\n",
        "  gc.disable() # reduces loop time by disabling garbage collector\n",
        "  mean,var=ESM(sequence=i)\n",
        "  mean=mean.numpy()[0]; var=var.numpy()[0]\n",
        "  mean_.append(mean); var_.append(var) # faster than append\n",
        "gc.enable()\n",
        "\n",
        "bigdata=pd.DataFrame({'mean':mean_,'var':var_},columns=['mean','var'])\n",
        "bigdata['Species.new'] = Species_name\n",
        "from google.colab import files\n",
        "bigdata.to_csv('bigdata.csv')\n",
        "files.download('bigdata.csv')"
      ]
    }
  ],
  "metadata": {
    "accelerator": "TPU",
    "colab": {
      "gpuType": "V28",
      "provenance": [],
      "include_colab_link": true
    },
    "kernelspec": {
      "display_name": "Python 3",
      "name": "python3"
    },
    "language_info": {
      "name": "python"
    },
    "widgets": {
      "application/vnd.jupyter.widget-state+json": {
        "79276e63bb734e7fbf6cd78b0fccd590": {
          "model_module": "@jupyter-widgets/controls",
          "model_name": "VBoxModel",
          "model_module_version": "1.5.0",
          "state": {
            "_dom_classes": [
              "widget-interact"
            ],
            "_model_module": "@jupyter-widgets/controls",
            "_model_module_version": "1.5.0",
            "_model_name": "VBoxModel",
            "_view_count": null,
            "_view_module": "@jupyter-widgets/controls",
            "_view_module_version": "1.5.0",
            "_view_name": "VBoxView",
            "box_style": "",
            "children": [
              "IPY_MODEL_922bb38c3ea74d65a0215d8fe5fd9e3a",
              "IPY_MODEL_b5c129da2aa74758a61f701a033ebb4e"
            ],
            "layout": "IPY_MODEL_7bdd955e378442ef97891660daf65c7e"
          }
        },
        "922bb38c3ea74d65a0215d8fe5fd9e3a": {
          "model_module": "@jupyter-widgets/controls",
          "model_name": "TextModel",
          "model_module_version": "1.5.0",
          "state": {
            "_dom_classes": [],
            "_model_module": "@jupyter-widgets/controls",
            "_model_module_version": "1.5.0",
            "_model_name": "TextModel",
            "_view_count": null,
            "_view_module": "@jupyter-widgets/controls",
            "_view_module_version": "1.5.0",
            "_view_name": "TextView",
            "continuous_update": true,
            "description": "sequence",
            "description_tooltip": null,
            "disabled": false,
            "layout": "IPY_MODEL_d7357f5fc2104739954ba07b50e28e1f",
            "placeholder": "​",
            "style": "IPY_MODEL_70be2a00f3e646679d19795206b86693",
            "value": "AABBBCCCC"
          }
        },
        "b5c129da2aa74758a61f701a033ebb4e": {
          "model_module": "@jupyter-widgets/output",
          "model_name": "OutputModel",
          "model_module_version": "1.0.0",
          "state": {
            "_dom_classes": [],
            "_model_module": "@jupyter-widgets/output",
            "_model_module_version": "1.0.0",
            "_model_name": "OutputModel",
            "_view_count": null,
            "_view_module": "@jupyter-widgets/output",
            "_view_module_version": "1.0.0",
            "_view_name": "OutputView",
            "layout": "IPY_MODEL_23f00dd4ce97430d871b8ddba62360eb",
            "msg_id": "",
            "outputs": [
              {
                "output_type": "display_data",
                "data": {
                  "text/plain": "(<tf.Tensor: shape=(1, 1), dtype=float64, numpy=array([[-0.13733357]])>,\n <tf.Tensor: shape=(1, 1), dtype=float64, numpy=array([[26.85663554]])>)"
                },
                "metadata": {}
              }
            ]
          }
        },
        "7bdd955e378442ef97891660daf65c7e": {
          "model_module": "@jupyter-widgets/base",
          "model_name": "LayoutModel",
          "model_module_version": "1.2.0",
          "state": {
            "_model_module": "@jupyter-widgets/base",
            "_model_module_version": "1.2.0",
            "_model_name": "LayoutModel",
            "_view_count": null,
            "_view_module": "@jupyter-widgets/base",
            "_view_module_version": "1.2.0",
            "_view_name": "LayoutView",
            "align_content": null,
            "align_items": null,
            "align_self": null,
            "border": null,
            "bottom": null,
            "display": null,
            "flex": null,
            "flex_flow": null,
            "grid_area": null,
            "grid_auto_columns": null,
            "grid_auto_flow": null,
            "grid_auto_rows": null,
            "grid_column": null,
            "grid_gap": null,
            "grid_row": null,
            "grid_template_areas": null,
            "grid_template_columns": null,
            "grid_template_rows": null,
            "height": null,
            "justify_content": null,
            "justify_items": null,
            "left": null,
            "margin": null,
            "max_height": null,
            "max_width": null,
            "min_height": null,
            "min_width": null,
            "object_fit": null,
            "object_position": null,
            "order": null,
            "overflow": null,
            "overflow_x": null,
            "overflow_y": null,
            "padding": null,
            "right": null,
            "top": null,
            "visibility": null,
            "width": null
          }
        },
        "d7357f5fc2104739954ba07b50e28e1f": {
          "model_module": "@jupyter-widgets/base",
          "model_name": "LayoutModel",
          "model_module_version": "1.2.0",
          "state": {
            "_model_module": "@jupyter-widgets/base",
            "_model_module_version": "1.2.0",
            "_model_name": "LayoutModel",
            "_view_count": null,
            "_view_module": "@jupyter-widgets/base",
            "_view_module_version": "1.2.0",
            "_view_name": "LayoutView",
            "align_content": null,
            "align_items": null,
            "align_self": null,
            "border": null,
            "bottom": null,
            "display": null,
            "flex": null,
            "flex_flow": null,
            "grid_area": null,
            "grid_auto_columns": null,
            "grid_auto_flow": null,
            "grid_auto_rows": null,
            "grid_column": null,
            "grid_gap": null,
            "grid_row": null,
            "grid_template_areas": null,
            "grid_template_columns": null,
            "grid_template_rows": null,
            "height": null,
            "justify_content": null,
            "justify_items": null,
            "left": null,
            "margin": null,
            "max_height": null,
            "max_width": null,
            "min_height": null,
            "min_width": null,
            "object_fit": null,
            "object_position": null,
            "order": null,
            "overflow": null,
            "overflow_x": null,
            "overflow_y": null,
            "padding": null,
            "right": null,
            "top": null,
            "visibility": null,
            "width": null
          }
        },
        "70be2a00f3e646679d19795206b86693": {
          "model_module": "@jupyter-widgets/controls",
          "model_name": "DescriptionStyleModel",
          "model_module_version": "1.5.0",
          "state": {
            "_model_module": "@jupyter-widgets/controls",
            "_model_module_version": "1.5.0",
            "_model_name": "DescriptionStyleModel",
            "_view_count": null,
            "_view_module": "@jupyter-widgets/base",
            "_view_module_version": "1.2.0",
            "_view_name": "StyleView",
            "description_width": ""
          }
        },
        "23f00dd4ce97430d871b8ddba62360eb": {
          "model_module": "@jupyter-widgets/base",
          "model_name": "LayoutModel",
          "model_module_version": "1.2.0",
          "state": {
            "_model_module": "@jupyter-widgets/base",
            "_model_module_version": "1.2.0",
            "_model_name": "LayoutModel",
            "_view_count": null,
            "_view_module": "@jupyter-widgets/base",
            "_view_module_version": "1.2.0",
            "_view_name": "LayoutView",
            "align_content": null,
            "align_items": null,
            "align_self": null,
            "border": null,
            "bottom": null,
            "display": null,
            "flex": null,
            "flex_flow": null,
            "grid_area": null,
            "grid_auto_columns": null,
            "grid_auto_flow": null,
            "grid_auto_rows": null,
            "grid_column": null,
            "grid_gap": null,
            "grid_row": null,
            "grid_template_areas": null,
            "grid_template_columns": null,
            "grid_template_rows": null,
            "height": null,
            "justify_content": null,
            "justify_items": null,
            "left": null,
            "margin": null,
            "max_height": null,
            "max_width": null,
            "min_height": null,
            "min_width": null,
            "object_fit": null,
            "object_position": null,
            "order": null,
            "overflow": null,
            "overflow_x": null,
            "overflow_y": null,
            "padding": null,
            "right": null,
            "top": null,
            "visibility": null,
            "width": null
          }
        },
        "a762314700f440f3ae84495206789cb2": {
          "model_module": "@jupyter-widgets/controls",
          "model_name": "FileUploadModel",
          "model_module_version": "1.5.0",
          "state": {
            "_counter": 0,
            "_dom_classes": [],
            "_model_module": "@jupyter-widgets/controls",
            "_model_module_version": "1.5.0",
            "_model_name": "FileUploadModel",
            "_view_count": null,
            "_view_module": "@jupyter-widgets/controls",
            "_view_module_version": "1.5.0",
            "_view_name": "FileUploadView",
            "accept": ".csv",
            "button_style": "",
            "data": [],
            "description": "Upload",
            "description_tooltip": null,
            "disabled": false,
            "error": "",
            "icon": "upload",
            "layout": "IPY_MODEL_1ebe7169341745df82ab1e19fd7fb832",
            "metadata": [],
            "multiple": false,
            "style": "IPY_MODEL_626960b77c544f8cb2dcda61996d0afa"
          }
        },
        "1ebe7169341745df82ab1e19fd7fb832": {
          "model_module": "@jupyter-widgets/base",
          "model_name": "LayoutModel",
          "model_module_version": "1.2.0",
          "state": {
            "_model_module": "@jupyter-widgets/base",
            "_model_module_version": "1.2.0",
            "_model_name": "LayoutModel",
            "_view_count": null,
            "_view_module": "@jupyter-widgets/base",
            "_view_module_version": "1.2.0",
            "_view_name": "LayoutView",
            "align_content": null,
            "align_items": null,
            "align_self": null,
            "border": null,
            "bottom": null,
            "display": null,
            "flex": null,
            "flex_flow": null,
            "grid_area": null,
            "grid_auto_columns": null,
            "grid_auto_flow": null,
            "grid_auto_rows": null,
            "grid_column": null,
            "grid_gap": null,
            "grid_row": null,
            "grid_template_areas": null,
            "grid_template_columns": null,
            "grid_template_rows": null,
            "height": null,
            "justify_content": null,
            "justify_items": null,
            "left": null,
            "margin": null,
            "max_height": null,
            "max_width": null,
            "min_height": null,
            "min_width": null,
            "object_fit": null,
            "object_position": null,
            "order": null,
            "overflow": null,
            "overflow_x": null,
            "overflow_y": null,
            "padding": null,
            "right": null,
            "top": null,
            "visibility": null,
            "width": null
          }
        },
        "626960b77c544f8cb2dcda61996d0afa": {
          "model_module": "@jupyter-widgets/controls",
          "model_name": "ButtonStyleModel",
          "model_module_version": "1.5.0",
          "state": {
            "_model_module": "@jupyter-widgets/controls",
            "_model_module_version": "1.5.0",
            "_model_name": "ButtonStyleModel",
            "_view_count": null,
            "_view_module": "@jupyter-widgets/base",
            "_view_module_version": "1.2.0",
            "_view_name": "StyleView",
            "button_color": null,
            "font_weight": ""
          }
        }
      }
    }
  },
  "nbformat": 4,
  "nbformat_minor": 0
}